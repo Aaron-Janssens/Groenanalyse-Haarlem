{
 "cells": [
  {
   "cell_type": "markdown",
   "id": "21da39b6",
   "metadata": {},
   "source": [
    "Het doel van deze notebook is het voorverwerken van de data, zodat deze gereed is voor analyse. Dit doe ik door het raster om te zetten naar een 2D-array van features per pixel, zodat deze kunnen worden geclusterd en geclassificeerd."
   ]
  },
  {
   "cell_type": "code",
   "execution_count": 2,
   "id": "6fd87db0",
   "metadata": {},
   "outputs": [],
   "source": [
    "# Benodigde imports\n",
    "import numpy as np\n",
    "import rasterio\n",
    "import os\n",
    "from rasterio.windows import Window\n",
    "import warnings\n",
    "from rasterio.errors import NotGeoreferencedWarning\n",
    "from scipy.ndimage import generic_filter\n",
    "from tqdm import tqdm\n",
    "import glob"
   ]
  },
  {
   "cell_type": "markdown",
   "id": "6bc703c3",
   "metadata": {},
   "source": [
    "Met het volgende codeblok maak ik een nieuw TIF-bestand waarbij alle pixels met waarde 0 worden vervangen door `NaN`.  \n",
    "Deze `NaN`-waarden worden in het rasterbestand ingesteld als NoData-pixels, zodat ze genegeerd worden bij verdere analyse."
   ]
  },
  {
   "cell_type": "code",
   "execution_count": 2,
   "id": "5f4fedeb",
   "metadata": {},
   "outputs": [
    {
     "name": "stdout",
     "output_type": "stream",
     "text": [
      "Raster opgeslagen als: ../data/private/haarlem_2024_cir_nan.tif\n"
     ]
    }
   ],
   "source": [
    "warnings.filterwarnings(\"ignore\", category=NotGeoreferencedWarning)\n",
    "\n",
    "input_path = \"../data/private/haarlem_2024_cir.tif\"\n",
    "output_path = \"../data/private/haarlem_2024_cir_nan.tif\"\n",
    "\n",
    "with rasterio.open(input_path) as src:\n",
    "    profile = src.profile.copy()\n",
    "    profile.update(\n",
    "        dtype='float32',\n",
    "        count=3,\n",
    "        nodata=np.nan,\n",
    "        compress='deflate',\n",
    "        predictor=2,\n",
    "        zlevel=6,\n",
    "        bigtiff='yes'\n",
    "    )\n",
    "\n",
    "    with rasterio.open(output_path, 'w', **profile) as dst:\n",
    "        # Loop over blokken\n",
    "        for ji, window in src.block_windows(1):\n",
    "            data = src.read([1, 2, 3], window=window)\n",
    "\n",
    "            # Zet 0 om in NaN\n",
    "            data = np.where(data == 0, np.nan, data).astype('float32')\n",
    "\n",
    "            # Schrijf blok\n",
    "            dst.write(data, window=window)\n",
    "\n",
    "print(\"Raster opgeslagen als:\", output_path)\n"
   ]
  },
  {
   "cell_type": "markdown",
   "id": "352a2119",
   "metadata": {},
   "source": [
    "In onderstaand codeblok worden twee soorten kenmerken per pixel berekend:\n",
    "\n",
    "1. **Genormaliseerde RGB-waarden**  \n",
    "   Elke kleurband (rood, groen, blauw) wordt geschaald naar een bereik tussen 0 en 1.  \n",
    "   Dit zorgt ervoor dat alle banden evenveel gewicht hebben in de analyse, ongeacht hun oorspronkelijke schaal.\n",
    "\n",
    "2. **Textuurkenmerken**  \n",
    "   Voor elke kleurband wordt de lokale standaarddeviatie berekend in een 5×5 venster rondom elke pixel.  \n",
    "   Deze waarde geeft aan hoeveel variatie (ruwheid of structuur) er in de directe omgeving zit.  \n",
    "   Pixels in een egaal gebied (zoals asfalt of dakvlak) hebben een lage textuurwaarde, terwijl vegetatie of randen juist hogere waarden hebben.\n",
    "\n",
    "Beide outputs worden opgeslagen als 3D-arrays met de vorm (3, hoogte, breedte), één voor de genormaliseerde waarden en één voor de textuur.\n"
   ]
  },
  {
   "cell_type": "code",
   "execution_count": null,
   "id": "0f45dcb6",
   "metadata": {},
   "outputs": [],
   "source": [
    "def normalize_band(band):\n",
    "    return (band - np.nanmin(band)) / (np.nanmax(band) - np.nanmin(band))\n",
    "\n",
    "def local_std(arr, size=5):\n",
    "    return generic_filter(arr, np.std, size=(size, size), mode='nearest')\n",
    "\n",
    "input_path = \"../data/private/haarlem_2024_cir_nan.tif\"\n",
    "output_dir = \"../data/processed/features_parts\"\n",
    "os.makedirs(output_dir, exist_ok=True)\n",
    "\n",
    "batch_size = 1000\n",
    "batch = []\n",
    "batch_idx = 0\n",
    "pixel_total = 0\n",
    "blok_teller = 0\n",
    "\n",
    "with rasterio.open(input_path) as src:\n",
    "    for i, (ji, window) in enumerate(tqdm(src.block_windows(1), desc=\"Verwerken van blokken\")):\n",
    "        data = src.read([1, 2, 3], window=window)\n",
    "\n",
    "        if np.isnan(data).all():\n",
    "            continue\n",
    "\n",
    "        mask = ~np.isnan(data).any(axis=0)\n",
    "        if not np.any(mask):\n",
    "            continue\n",
    "\n",
    "        norm = np.stack([normalize_band(b) for b in data])\n",
    "        texture = np.stack([local_std(b, size=5) for b in data])\n",
    "\n",
    "        row_idx, col_idx = np.where(mask)\n",
    "        transform = src.window_transform(window)\n",
    "        x_coords, y_coords = rasterio.transform.xy(transform, row_idx, col_idx, offset='center')\n",
    "        x_coords = np.array(x_coords)\n",
    "        y_coords = np.array(y_coords)\n",
    "\n",
    "        feats = np.stack([\n",
    "            norm[0][mask],\n",
    "            norm[1][mask],\n",
    "            norm[2][mask],\n",
    "            texture[0][mask],\n",
    "            texture[1][mask],\n",
    "            texture[2][mask],\n",
    "            x_coords,\n",
    "            y_coords\n",
    "        ], axis=1)\n",
    "\n",
    "        batch.append(feats)\n",
    "        pixel_total += feats.shape[0]\n",
    "        blok_teller += 1\n",
    "\n",
    "        if len(batch) >= batch_size:\n",
    "            features_block = np.vstack(batch)\n",
    "            np.save(os.path.join(output_dir, f\"features_part_{batch_idx:03}.npy\"), features_block)\n",
    "            print(f\"Batch {batch_idx} opgeslagen: {features_block.shape[0]} pixels (totaal: {pixel_total:,} pixels)\")\n",
    "            batch = []\n",
    "            batch_idx += 1\n",
    "\n",
    "# Laatste batch wegschrijven\n",
    "if batch:\n",
    "    features_block = np.vstack(batch)\n",
    "    np.save(os.path.join(output_dir, f\"features_part_{batch_idx:03}.npy\"), features_block)\n",
    "    print(f\"Laatste batch {batch_idx} opgeslagen: {features_block.shape[0]} pixels (totaal: {pixel_total:,} pixels)\")\n",
    "\n",
    "print(f\"\\n Klaar: {blok_teller} blokken verwerkt, totaal {pixel_total:,} geldige pixels opgeslagen.\")"
   ]
  },
  {
   "cell_type": "markdown",
   "id": "2e280089",
   "metadata": {},
   "source": [
    "11,5 uur later is bovenstaande verwerking klaar. In de volgende stap voeg ik alle npy-bestanden uit de batches samen tot één bestand."
   ]
  },
  {
   "cell_type": "code",
   "execution_count": null,
   "id": "7d645a04",
   "metadata": {},
   "outputs": [],
   "source": [
    "input_dir = \"../data/processed/features_parts\"\n",
    "output_path = \"../data/processed/features_all.npy\"\n",
    "\n",
    "part_files = sorted(glob.glob(os.path.join(input_dir, \"features_part_*.npy\")))\n",
    "\n",
    "# Inspecteer eerste bestand om shape te bepalen\n",
    "first = np.load(part_files[0])\n",
    "n_features = first.shape[1]\n",
    "total_rows = sum(np.load(f).shape[0] for f in part_files)\n",
    "\n",
    "print(f\"Totaal: {total_rows:,} rijen × {n_features} features\")\n",
    "\n",
    "# Maak leeg bestand op schijf\n",
    "output = np.lib.format.open_memmap(\n",
    "    output_path,\n",
    "    dtype=first.dtype,\n",
    "    mode='w+',\n",
    "    shape=(total_rows, n_features)\n",
    ")\n",
    "\n",
    "# Vul het bestand stap voor stap\n",
    "cursor = 0\n",
    "for i, file in enumerate(part_files):\n",
    "    part = np.load(file)\n",
    "    rows = part.shape[0]\n",
    "    output[cursor:cursor + rows] = part\n",
    "    cursor += rows\n",
    "    print(f\"Toegevoegd: {file} → {rows:,} rijen\")\n",
    "\n",
    "# Sluit bestand\n",
    "del output\n",
    "\n",
    "print(f\"\\n Bestand opgeslagen: {output_path}\")\n"
   ]
  }
 ],
 "metadata": {
  "kernelspec": {
   "display_name": ".venv",
   "language": "python",
   "name": "python3"
  },
  "language_info": {
   "codemirror_mode": {
    "name": "ipython",
    "version": 3
   },
   "file_extension": ".py",
   "mimetype": "text/x-python",
   "name": "python",
   "nbconvert_exporter": "python",
   "pygments_lexer": "ipython3",
   "version": "3.13.1"
  }
 },
 "nbformat": 4,
 "nbformat_minor": 5
}
